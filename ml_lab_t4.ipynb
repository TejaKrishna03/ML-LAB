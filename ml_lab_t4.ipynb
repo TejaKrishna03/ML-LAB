{
  "nbformat": 4,
  "nbformat_minor": 0,
  "metadata": {
    "colab": {
      "provenance": []
    },
    "kernelspec": {
      "name": "python3",
      "display_name": "Python 3"
    },
    "language_info": {
      "name": "python"
    }
  },
  "cells": [
    {
      "cell_type": "code",
      "execution_count": null,
      "metadata": {
        "colab": {
          "base_uri": "https://localhost:8080/"
        },
        "id": "e6P48QGmF__T",
        "outputId": "0edf2f60-6b9e-42b3-b047-951b40e45f2e"
      },
      "outputs": [
        {
          "output_type": "stream",
          "name": "stdout",
          "text": [
            "4.5\n",
            "6.5\n"
          ]
        }
      ],
      "source": [
        "import numpy as np\n",
        "\n",
        "x = np.array([0, 1, 2, 3, 4, 5, 6, 7, 8, 9])\n",
        "y = np.array([1, 3, 2, 5, 7, 8, 8, 9, 10, 12])\n",
        "\n",
        "x1= np.mean(x)\n",
        "y1 = np.mean(y)\n",
        "print(x1)\n",
        "print(y1)"
      ]
    },
    {
      "cell_type": "code",
      "source": [
        "for i in range(len(x)):\n",
        "  x2=(x-x1)\n",
        "print(x2)"
      ],
      "metadata": {
        "colab": {
          "base_uri": "https://localhost:8080/"
        },
        "id": "POu45K5CJH2L",
        "outputId": "a792a799-8309-4ec4-e0f9-43ef8ddff2ee"
      },
      "execution_count": null,
      "outputs": [
        {
          "output_type": "stream",
          "name": "stdout",
          "text": [
            "[-4.5 -3.5 -2.5 -1.5 -0.5  0.5  1.5  2.5  3.5  4.5]\n"
          ]
        }
      ]
    },
    {
      "cell_type": "code",
      "source": [
        "for i in range(len(y)):\n",
        "  y2=(y-y1)\n",
        "print(y2)"
      ],
      "metadata": {
        "colab": {
          "base_uri": "https://localhost:8080/"
        },
        "id": "8KYd2BR8KQRm",
        "outputId": "ddbaa6f2-e4b5-4ece-dad6-6e70ba25fe68"
      },
      "execution_count": null,
      "outputs": [
        {
          "output_type": "stream",
          "name": "stdout",
          "text": [
            "[-5.5 -3.5 -4.5 -1.5  0.5  1.5  1.5  2.5  3.5  5.5]\n"
          ]
        }
      ]
    },
    {
      "cell_type": "code",
      "source": [
        "z=(y2*x2)\n",
        "print(z)"
      ],
      "metadata": {
        "colab": {
          "base_uri": "https://localhost:8080/"
        },
        "id": "4AbVDd0iLeJe",
        "outputId": "e8c2e299-0885-4616-e979-40480788db0a"
      },
      "execution_count": null,
      "outputs": [
        {
          "output_type": "stream",
          "name": "stdout",
          "text": [
            "[24.75 12.25 11.25  2.25 -0.25  0.75  2.25  6.25 12.25 24.75]\n"
          ]
        }
      ]
    },
    {
      "cell_type": "code",
      "source": [
        "z1=(x2**2)\n",
        "print(z1)"
      ],
      "metadata": {
        "colab": {
          "base_uri": "https://localhost:8080/"
        },
        "id": "Us5NYEcSLpDT",
        "outputId": "c1e25f8e-8403-48d2-f92e-8add103ff7cd"
      },
      "execution_count": null,
      "outputs": [
        {
          "output_type": "stream",
          "name": "stdout",
          "text": [
            "[20.25 12.25  6.25  2.25  0.25  0.25  2.25  6.25 12.25 20.25]\n"
          ]
        }
      ]
    },
    {
      "cell_type": "code",
      "source": [
        "z3=np.sum(z)\n",
        "print(z3)\n"
      ],
      "metadata": {
        "colab": {
          "base_uri": "https://localhost:8080/"
        },
        "id": "yp6O89Z9L1ob",
        "outputId": "dea699f7-53e8-489c-b2ad-698806189d56"
      },
      "execution_count": null,
      "outputs": [
        {
          "output_type": "stream",
          "name": "stdout",
          "text": [
            "96.5\n"
          ]
        }
      ]
    },
    {
      "cell_type": "code",
      "source": [
        "z4=np.sum(z1)\n",
        "print(z4)"
      ],
      "metadata": {
        "colab": {
          "base_uri": "https://localhost:8080/"
        },
        "id": "zXEJYFWLMoOE",
        "outputId": "562a0500-ca21-445c-d3c1-bbf7fd3c43bf"
      },
      "execution_count": null,
      "outputs": [
        {
          "output_type": "stream",
          "name": "stdout",
          "text": [
            "82.5\n"
          ]
        }
      ]
    },
    {
      "cell_type": "code",
      "source": [
        "m=z3/z4\n",
        "print(m)"
      ],
      "metadata": {
        "colab": {
          "base_uri": "https://localhost:8080/"
        },
        "id": "g_vedNomNigb",
        "outputId": "9d4343e3-cf01-4f36-ade1-6264490186d9"
      },
      "execution_count": null,
      "outputs": [
        {
          "output_type": "stream",
          "name": "stdout",
          "text": [
            "1.1696969696969697\n"
          ]
        }
      ]
    },
    {
      "cell_type": "code",
      "source": [
        "betanot = (y1-m*x1)\n",
        "print(betanot)"
      ],
      "metadata": {
        "colab": {
          "base_uri": "https://localhost:8080/"
        },
        "id": "xKtRU_0uNuoB",
        "outputId": "e0a86534-cef2-423f-c833-16e19b4f1e86"
      },
      "execution_count": null,
      "outputs": [
        {
          "output_type": "stream",
          "name": "stdout",
          "text": [
            "1.2363636363636363\n"
          ]
        }
      ]
    },
    {
      "cell_type": "code",
      "source": [
        "prep= ((m*x)+(betanot))\n",
        "print(prep)"
      ],
      "metadata": {
        "colab": {
          "base_uri": "https://localhost:8080/"
        },
        "id": "8WThfpqPON4b",
        "outputId": "d7c7ae8e-83b8-4ae9-b24f-d7d23c24cdbe"
      },
      "execution_count": null,
      "outputs": [
        {
          "output_type": "stream",
          "name": "stdout",
          "text": [
            "[ 1.23636364  2.40606061  3.57575758  4.74545455  5.91515152  7.08484848\n",
            "  8.25454545  9.42424242 10.59393939 11.76363636]\n"
          ]
        }
      ]
    },
    {
      "cell_type": "code",
      "source": [
        "pp=(y-prep)\n",
        "print(pp)"
      ],
      "metadata": {
        "colab": {
          "base_uri": "https://localhost:8080/"
        },
        "id": "yB2b34G0SIy5",
        "outputId": "16794a2f-8ee1-492a-8bff-f31961dcd90d"
      },
      "execution_count": null,
      "outputs": [
        {
          "output_type": "stream",
          "name": "stdout",
          "text": [
            "[-0.23636364  0.59393939 -1.57575758  0.25454545  1.08484848  0.91515152\n",
            " -0.25454545 -0.42424242 -0.59393939  0.23636364]\n"
          ]
        }
      ]
    },
    {
      "cell_type": "code",
      "source": [
        "rnum=np.sum(pp**2)\n",
        "print(rnum)"
      ],
      "metadata": {
        "colab": {
          "base_uri": "https://localhost:8080/"
        },
        "id": "Ck5KMHo5S27q",
        "outputId": "8f19246e-0385-4eb2-9b02-c38c59fe071a"
      },
      "execution_count": null,
      "outputs": [
        {
          "output_type": "stream",
          "name": "stdout",
          "text": [
            "5.624242424242423\n"
          ]
        }
      ]
    },
    {
      "cell_type": "code",
      "source": [
        "rdem = np.sum(y2**2)\n",
        "print(rdem)"
      ],
      "metadata": {
        "colab": {
          "base_uri": "https://localhost:8080/"
        },
        "id": "YbYds_HcT6nM",
        "outputId": "bb1e1216-4381-4b41-9b97-92bc0d9933c7"
      },
      "execution_count": null,
      "outputs": [
        {
          "output_type": "stream",
          "name": "stdout",
          "text": [
            "118.5\n"
          ]
        }
      ]
    },
    {
      "cell_type": "code",
      "source": [
        "rsquare = 1-(rnum/rdem)\n",
        "print(rsquare)"
      ],
      "metadata": {
        "colab": {
          "base_uri": "https://localhost:8080/"
        },
        "id": "ZgvtKbCPUSkZ",
        "outputId": "91ba496c-6988-45da-e021-33db2892adae"
      },
      "execution_count": null,
      "outputs": [
        {
          "output_type": "stream",
          "name": "stdout",
          "text": [
            "0.952538038613988\n"
          ]
        }
      ]
    },
    {
      "cell_type": "code",
      "source": [
        "import numpy as np\n",
        "import matplotlib.pyplot as plt\n",
        "\n",
        "x = np.array([0, 1, 2, 3, 4, 5, 6, 7, 8, 9])\n",
        "y = np.array([1, 3, 2, 5, 7, 8, 8, 9, 10, 12])\n",
        "\n",
        "def linear_regression_analytical(x, y):\n",
        "    X = np.vstack([np.ones(len(x)), x]).T\n",
        "    beta = np.linalg.inv(X.T.dot(X)).dot(X.T).dot(y)\n",
        "    return beta\n",
        "\n",
        "beta_analytical = linear_regression_analytical(x, y)\n",
        "y_pred_analytical = beta_analytical[0] + beta_analytical[1] * x\n",
        "sse_analytical = np.sum((y - y_pred_analytical)**2)\n",
        "y_mean = np.mean(y)\n",
        "sst = np.sum((y - y_mean)**2)\n",
        "r_squared_analytical = 1 - (sse_analytical / sst)\n",
        "\n",
        "\n",
        "\n",
        "def full_batch_gradient_descent(x, y, learning_rate=0.001, epochs=1000, tolerance=1e-5):\n",
        "    beta = np.zeros(2)\n",
        "    m = len(x)\n",
        "\n",
        "    for epoch in range(epochs):\n",
        "        y_pred = beta[0] + beta[1] * x\n",
        "        gradient = np.array([\n",
        "            -2 * np.sum(y - y_pred),\n",
        "            -2 * np.sum((y - y_pred) * x)\n",
        "        ])\n",
        "        beta -= learning_rate * gradient\n",
        "        sse = np.sum((y - y_pred)**2)\n",
        "        if np.linalg.norm(gradient) < tolerance:\n",
        "            break\n",
        "\n",
        "    return beta, sse\n",
        "\n",
        "def stochastic_gradient_descent(x, y, learning_rate=0.001, epochs=1000, tolerance=1e-5):\n",
        "    beta = np.zeros(2)\n",
        "    m = len(x)\n",
        "\n",
        "    for epoch in range(epochs):\n",
        "        indices = np.random.permutation(m)\n",
        "        x_shuffled = x[indices]\n",
        "        y_shuffled = y[indices]\n",
        "\n",
        "        for i in range(m):\n",
        "            y_pred = beta[0] + beta[1] * x_shuffled[i]\n",
        "            gradient = np.array([\n",
        "                -2 * (y_shuffled[i] - y_pred),\n",
        "                -2 * (y_shuffled[i] - y_pred) * x_shuffled[i]\n",
        "            ])\n",
        "            beta -= learning_rate * gradient\n",
        "            sse = np.sum((y - (beta[0] + beta[1] * x))**2)\n",
        "            if np.linalg.norm(gradient) < tolerance:\n",
        "                return beta, sse\n",
        "\n",
        "    return beta, sse\n",
        "\n",
        "beta_full_batch, sse_full_batch = full_batch_gradient_descent(x, y)\n",
        "y_pred_full_batch = beta_full_batch[0] + beta_full_batch[1] * x\n",
        "r_squared_full_batch = 1 - (sse_full_batch / sst)\n",
        "\n",
        "beta_stochastic, sse_stochastic = stochastic_gradient_descent(x, y)\n",
        "y_pred_stochastic = beta_stochastic[0] + beta_stochastic[1] * x\n",
        "r_squared_stochastic = 1 - (sse_stochastic / sst)\n",
        "\n",
        "print(\"\\nFull-batch Gradient Descent:\")\n",
        "print(\"Coefficients (beta):\", beta_full_batch)\n",
        "print(\"Sum Squared Error (SSE):\", sse_full_batch)\n",
        "print(\"R-squared value:\", r_squared_full_batch)\n",
        "\n",
        "print(\"\\nStochastic Gradient Descent:\")\n",
        "print(\"Coefficients (beta):\", beta_stochastic)\n",
        "print(\"Sum Squared Error (SSE):\", sse_stochastic)\n",
        "print(\"R-squared value:\", r_squared_stochastic)\n",
        "\n",
        "plt.scatter(x, y, color='blue', label='Data points')\n",
        "plt.plot(x, y_pred_full_batch, color='green', label='Full-batch Regression Line')\n",
        "plt.title('Linear Regression - Full-batch Gradient Descent')\n",
        "plt.xlabel('x')\n",
        "plt.ylabel('y')\n",
        "plt.legend()\n",
        "plt.show()\n",
        "\n",
        "plt.scatter(x, y, color='blue', label='Data points')\n",
        "plt.plot(x, y_pred_stochastic, color='purple', label='Stochastic Regression Line')\n",
        "plt.title('Linear Regression - Stochastic Gradient Descent')\n",
        "plt.xlabel('x')\n",
        "plt.ylabel('y')\n",
        "plt.legend()\n",
        "plt.show()"
      ],
      "metadata": {
        "id": "syd_sXpoUeY_",
        "colab": {
          "base_uri": "https://localhost:8080/",
          "height": 1000
        },
        "outputId": "fa5170bb-7202-4b5d-dd15-401a5369d8ce"
      },
      "execution_count": 2,
      "outputs": [
        {
          "output_type": "stream",
          "name": "stdout",
          "text": [
            "\n",
            "Full-batch Gradient Descent:\n",
            "Coefficients (beta): [1.23280995 1.17026369]\n",
            "Sum Squared Error (SSE): 5.624279406496133\n",
            "R-squared value: 0.9525377265274588\n",
            "\n",
            "Stochastic Gradient Descent:\n",
            "Coefficients (beta): [1.23645568 1.16831447]\n",
            "Sum Squared Error (SSE): 5.624775779367235\n",
            "R-squared value: 0.9525335377268588\n"
          ]
        },
        {
          "output_type": "display_data",
          "data": {
            "text/plain": [
              "<Figure size 640x480 with 1 Axes>"
            ],
            "image/png": "[encoded data removed]"
          },
          "metadata": {}
        },
        {
          "output_type": "display_data",
          "data": {
            "text/plain": [
              "<Figure size 640x480 with 1 Axes>"
            ],
            "image/png": "[encoded data removed]"
          },
          "metadata": {}
        }
      ]
    },
    {
      "cell_type": "code",
      "source": [
        "# Download Boston Housing Rate Dataset. Analyse the input attributes and find out the attribute that best follow the linear relationship with the output price. Implement both the analytic formulation and gradient descent (Full-batch, stochastic) on LMS loss formulation to compute the coefficients of regression matrix and compare the results.\n",
        "\n",
        "import numpy as np\n",
        "import pandas as pd\n",
        "from sklearn.model_selection import train_test_split\n",
        "from sklearn.preprocessing import StandardScaler\n",
        "import requests\n",
        "from io import StringIO\n",
        "\n",
        "# Step 1: Load the Boston Housing dataset from URL\n",
        "url = \"https://archive.ics.uci.edu/ml/machine-learning-databases/housing/housing.data\"\n",
        "response = requests.get(url)\n",
        "data = response.text\n",
        "\n",
        "# Parse the data into a pandas DataFrame\n",
        "names = [\"CRIM\", \"ZN\", \"INDUS\", \"CHAS\", \"NOX\", \"RM\", \"AGE\", \"DIS\", \"RAD\", \"TAX\", \"PTRATIO\", \"B\", \"LSTAT\", \"MEDV\"]\n",
        "df = pd.read_csv(StringIO(data), delim_whitespace=True, names=names)\n",
        "\n",
        "# Extract features and target variable\n",
        "X = df.drop(columns=['MEDV']).values\n",
        "y = df['MEDV'].values\n",
        "\n",
        "# Step 2: Split the dataset into training and testing sets\n",
        "X_train, X_test, y_train, y_test = train_test_split(X, y, test_size=0.2, random_state=42)\n",
        "\n",
        "# Step 3: Preprocess the data (standardization)\n",
        "scaler = StandardScaler()\n",
        "X_train_scaled = scaler.fit_transform(X_train)\n",
        "X_test_scaled = scaler.transform(X_test)\n",
        "\n",
        "# Step 4: Compute correlation coefficients\n",
        "correlation_coefficients = np.abs(np.corrcoef(X_train_scaled.T, y_train)[0, 1:])\n",
        "\n",
        "# Step 5: Find the attribute with the highest correlation coefficient\n",
        "best_attribute_index = np.argmax(correlation_coefficients)\n",
        "best_attribute_name = names[best_attribute_index]\n",
        "print(\"Attribute with the highest correlation with price:\", best_attribute_name)\n",
        "\n",
        "# Step 6: Implement analytic formulation and gradient descent\n",
        "# Analytic solution\n",
        "X_train_with_bias = np.c_[np.ones((X_train_scaled.shape[0], 1)), X_train_scaled]\n",
        "analytic_solution = np.linalg.inv(X_train_with_bias.T.dot(X_train_with_bias)).dot(X_train_with_bias.T).dot(y_train)\n",
        "\n",
        "# Full-batch gradient descent\n",
        "def full_batch_gradient_descent(X, y, learning_rate=0.01, n_iterations=1000):\n",
        "    m = len(y)\n",
        "    theta = np.random.randn(X.shape[1])\n",
        "    for iteration in range(n_iterations):\n",
        "        gradients = 2/m * X.T.dot(X.dot(theta) - y)\n",
        "        theta -= learning_rate * gradients\n",
        "    return theta\n",
        "\n",
        "# Stochastic gradient descent\n",
        "def stochastic_gradient_descent(X, y, learning_rate=0.01, n_iterations=1000):\n",
        "    m = len(y)\n",
        "    theta = np.random.randn(X.shape[1])\n",
        "    for iteration in range(n_iterations):\n",
        "        for i in range(m):\n",
        "            random_index = np.random.randint(m)\n",
        "            xi = X[random_index:random_index+1]\n",
        "            yi = y[random_index:random_index+1]\n",
        "            gradients = 2 * xi.T.dot(xi.dot(theta) - yi)\n",
        "            theta -= learning_rate * gradients\n",
        "    return theta\n",
        "\n",
        "# Compute coefficients using full-batch gradient descent\n",
        "theta_full_batch = full_batch_gradient_descent(X_train_with_bias, y_train)\n",
        "\n",
        "# Compute coefficients using stochastic gradient descent\n",
        "theta_stochastic = stochastic_gradient_descent(X_train_with_bias, y_train)\n",
        "\n",
        "# Step 7: Compare the results\n",
        "print(\"Analytic solution coefficients:\", analytic_solution)"
      ],
      "metadata": {
        "colab": {
          "base_uri": "https://localhost:8080/"
        },
        "id": "ipvUFgAoXrVJ",
        "outputId": "e4a9be11-21ce-4319-9974-81818a6687b2"
      },
      "execution_count": 7,
      "outputs": [
        {
          "output_type": "stream",
          "name": "stdout",
          "text": [
            "Attribute with the highest correlation with price: DIS\n",
            "Analytic solution coefficients: [22.79653465 -1.00213533  0.69626862  0.27806485  0.7187384  -2.0223194\n",
            "  3.14523956 -0.17604788 -3.0819076   2.25140666 -1.76701378 -2.03775151\n",
            "  1.12956831 -3.61165842]\n"
          ]
        }
      ]
    },
    {
      "cell_type": "code",
      "source": [
        "print(\"Full-batch gradient descent coefficients:\", theta_full_batch)"
      ],
      "metadata": {
        "id": "CY4FPTCzbHvR",
        "colab": {
          "base_uri": "https://localhost:8080/"
        },
        "outputId": "b5ed7927-382d-4bbd-d886-6b37d7cb288d"
      },
      "execution_count": 5,
      "outputs": [
        {
          "output_type": "stream",
          "name": "stdout",
          "text": [
            "Full-batch gradient descent coefficients: [22.79653461 -0.95347797  0.60849477  0.09962349  0.74470883 -1.93867297\n",
            "  3.20609934 -0.21806542 -3.04131153  1.70138275 -1.19243144 -1.9973864\n",
            "  1.1289346  -3.5774122 ]\n"
          ]
        }
      ]
    },
    {
      "cell_type": "code",
      "source": [],
      "metadata": {
        "id": "sMyeveZDiw7w"
      },
      "execution_count": null,
      "outputs": []
    }
  ]
}