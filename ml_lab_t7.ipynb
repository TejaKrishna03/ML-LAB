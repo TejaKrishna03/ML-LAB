{
  "cells": [
    {
      "cell_type": "markdown",
      "metadata": {
        "id": "6DZ0BiJfVbFr"
      },
      "source": [
        "**1. Create a vector (array) of 1XN dimension representing N-dimensional feature vector of a sample. Write a program to compute the mean and variance of the elements present in the array.**"
      ]
    },
    {
      "cell_type": "code",
      "execution_count": 1,
      "metadata": {
        "colab": {
          "base_uri": "https://localhost:8080/"
        },
        "id": "HsGaSbp8VIrm",
        "outputId": "35c29e23-512e-4638-df1d-b0a7b8c5dc9b"
      },
      "outputs": [],
      "source": [
        "import random\n",
        "\n",
        "def create_vector(N):\n",
        "    # Generate a vector of size N\n",
        "    vector = [random.randint(1, 10) for _ in range(N)]\n",
        "    return vector\n",
        "\n",
        "def compute_mean(vector):\n",
        "    mean = sum(vector) / len(vector)\n",
        "    return mean\n",
        "\n",
        "def Population_variance(vector):\n",
        "    mean = compute_mean(vector)\n",
        "    variance = sum((x - mean) ** 2 for x in vector) / len(vector)\n",
        "    return variance\n",
        "\n",
        "def Sample_variance(vector):\n",
        "    mean = compute_mean(vector)\n",
        "    sample_variance = sum((x - mean) ** 2 for x in vector) / (len(vector) - 1 )\n",
        "    return sample_variance\n",
        "\n",
        "def main():\n",
        "    N = int(input(\"Enter the dimension of the vector (N): \"))\n",
        "\n",
        "    vector = create_vector(N)\n",
        "    print(\"Vector:\", vector)\n",
        "\n",
        "    mean = compute_mean(vector)\n",
        "    print(\"Mean:\", mean)\n",
        "\n",
        "    population_variance = Population_variance(vector)\n",
        "    print(\"Population Variance:\", population_variance)\n",
        "\n",
        "    sample_variance = Sample_variance(vector)\n",
        "    print(\"Sample Variance of Vector:\", sample_variance)\n",
        "\n",
        "if __name__ == \"__main__\":\n",
        "    main()\n"
      ]
    },
    {
      "cell_type": "markdown",
      "metadata": {
        "id": "gtJIwoTFWoK7"
      },
      "source": [
        "The Mean and Variance of a sample represent statistical measures that provide insights into the central tendency and dispersion of the data.\n"
      ]
    },
    {
      "cell_type": "markdown",
      "metadata": {
        "id": "1G3LPqF1dhai"
      },
      "source": [
        "**2. Create two vectors each of dimension 1XM each representing N-dimensional feature vector of a sample. Write a program to compute the Covariance between them.**"
      ]
    },
    {
      "cell_type": "code",
      "execution_count": null,
      "metadata": {
        "colab": {
          "base_uri": "https://localhost:8080/"
        },
        "id": "9V7yh7B6a14q",
        "outputId": "53c9bf7b-9ad2-4dc1-90a6-f3ff812f3772"
      },
      "outputs": [
        {
          "name": "stdout",
          "output_type": "stream",
          "text": [
            "Enter the dimension of the vectors (N): 8\n",
            "Vector X: [3, 8, 9, 8, 5, 3, 7, 10]\n",
            "Vector Y: [1, 4, 8, 9, 5, 2, 1, 3]\n",
            "Population Covariance: 3.546875\n",
            "Sample Covariance: 4.053571428571429\n"
          ]
        }
      ],
      "source": [
        "import random\n",
        "\n",
        "def create_vector(N):\n",
        "    vector_x = [random.randint(1, 10) for _ in range(N)]\n",
        "    vector_y = [random.randint(1, 10) for _ in range(N)]\n",
        "    return vector_x, vector_y\n",
        "\n",
        "def compute_mean(vector):\n",
        "    mean = sum(vector) / len(vector)\n",
        "    return mean\n",
        "\n",
        "def Population_covariance(vector_x, vector_y):\n",
        "    mean_x = compute_mean(vector_x)\n",
        "    mean_y = compute_mean(vector_y)\n",
        "    pop_covariance = sum((x - mean_x) * (y - mean_y) for x, y in zip(vector_x, vector_y)) / len(vector_x)\n",
        "    return pop_covariance\n",
        "\n",
        "def Sample_covariance(vector_x, vector_y):\n",
        "    mean_x = compute_mean(vector_x)\n",
        "    mean_y = compute_mean(vector_y)\n",
        "    sam_covariance = sum((x - mean_x) * (y - mean_y) for x, y in zip(vector_x, vector_y)) / (len(vector_x) - 1)\n",
        "    return sam_covariance\n",
        "\n",
        "def main():\n",
        "    N = int(input(\"Enter the dimension of the vectors (N): \"))\n",
        "\n",
        "    vector_x, vector_y = create_vector(N)\n",
        "    print(\"Vector X:\", vector_x)\n",
        "    print(\"Vector Y:\", vector_y)\n",
        "\n",
        "    population_covariance = Population_covariance(vector_x, vector_y)\n",
        "    print(\"Population Covariance:\", population_covariance)\n",
        "\n",
        "    sample_covariance = Sample_covariance(vector_x, vector_y)\n",
        "    print(\"Sample Covariance:\", sample_covariance)\n",
        "\n",
        "if __name__ == \"__main__\":\n",
        "    main()\n"
      ]
    },
    {
      "cell_type": "markdown",
      "metadata": {
        "id": "AbxUFtUyegHg"
      },
      "source": [
        "\n",
        "Covariance between two vectors represents the degree to which the elements of the vectors vary together."
      ]
    },
    {
      "cell_type": "markdown",
      "metadata": {
        "id": "SgfsYVcDeYqy"
      },
      "source": [
        "**3. Create two vectors each of dimension 1XN. Write a program to compute the Correlation between them.**"
      ]
    },
    {
      "cell_type": "code",
      "execution_count": null,
      "metadata": {
        "colab": {
          "base_uri": "https://localhost:8080/"
        },
        "id": "WP3kVt_beePQ",
        "outputId": "ba10504a-afc5-496b-fe94-d233d807c7ef"
      },
      "outputs": [
        {
          "name": "stdout",
          "output_type": "stream",
          "text": [
            "Enter the dimension of the vectors (N): 5\n",
            "Vector X: [10, 9, 8, 3, 3]\n",
            "Vector Y: [7, 9, 3, 3, 8]\n",
            "Population Covariance: 2.0\n",
            "Population Correlation: 0.2629394761947945\n"
          ]
        }
      ],
      "source": [
        "import random\n",
        "import math\n",
        "\n",
        "def create_vector(N):\n",
        "    vector_x = [random.randint(1, 10) for _ in range(N)]\n",
        "    vector_y = [random.randint(1, 10) for _ in range(N)]\n",
        "    return vector_x, vector_y\n",
        "\n",
        "def compute_mean(vector):\n",
        "    mean = sum(vector) / len(vector)\n",
        "    return mean\n",
        "\n",
        "def Population_variance(vector):\n",
        "    mean = compute_mean(vector)\n",
        "    variance = sum((x - mean) ** 2 for x in vector) / len(vector)\n",
        "    return variance\n",
        "\n",
        "def Population_covariance(vector_x, vector_y):\n",
        "    mean_x = compute_mean(vector_x)\n",
        "    mean_y = compute_mean(vector_y)\n",
        "    pop_covariance = sum((x - mean_x) * (y - mean_y) for x, y in zip(vector_x, vector_y)) / len(vector_x)\n",
        "    return pop_covariance\n",
        "\n",
        "def compute_correlation(vector_x, vector_y):\n",
        "    covariance = Population_covariance(vector_x, vector_y)\n",
        "    std_dev_x = math.sqrt(Population_variance(vector_x))\n",
        "    std_dev_y = math.sqrt(Population_variance(vector_y))\n",
        "    correlation = covariance / (std_dev_x * std_dev_y)\n",
        "    return correlation\n",
        "\n",
        "def main():\n",
        "    N = int(input(\"Enter the dimension of the vectors (N): \"))\n",
        "\n",
        "    vector_x, vector_y = create_vector(N)\n",
        "    print(\"Vector X:\", vector_x)\n",
        "    print(\"Vector Y:\", vector_y)\n",
        "\n",
        "    population_covariance = Population_covariance(vector_x, vector_y)\n",
        "    print(\"Population Covariance:\", population_covariance)\n",
        "\n",
        "    correlation = compute_correlation(vector_x, vector_y)\n",
        "    print(\"Population Correlation:\", correlation)\n",
        "\n",
        "if __name__ == \"__main__\":\n",
        "    main()\n"
      ]
    },
    {
      "cell_type": "markdown",
      "metadata": {
        "id": "AkHQ2cHImMxo"
      },
      "source": [
        "**4. Create a Matrix of MXN dimension representing the M-dimensional\n",
        "feature vector for N number of samples i. e (i,j)th entry of the matrix\n",
        "represents the ith feature of jth sample. Write a program to compute\n",
        "the covariance matrix and correlation matrix. Comment on\n",
        "takeaways from these matrixes.**"
      ]
    },
    {
      "cell_type": "code",
      "execution_count": 1,
      "metadata": {
        "colab": {
          "base_uri": "https://localhost:8080/"
        },
        "id": "6bOk1Al2dGmK",
        "outputId": "6c0141f8-7e4a-4c11-ba5e-f3bf28c6daae"
      },
      "outputs": [
        {
          "name": "stdout",
          "output_type": "stream",
          "text": [
            "M Value : 4\n",
            "N Value : 4\n",
            "Feature Matrix:\n",
            "[9, 2, 10, 9]\n",
            "[4, 8, 2, 9]\n",
            "[7, 1, 2, 4]\n",
            "[8, 2, 5, 3]\n",
            "\n",
            "Covariance Matrix:\n",
            "[10.25, -4.875, 4.0, 4.5]\n",
            "[-4.875, 8.1875, -1.125, -4.625]\n",
            "[4.0, -1.125, 5.25, 4.25]\n",
            "[4.5, -4.625, 4.25, 5.25]\n",
            "\n",
            "Correlation Matrix:\n",
            "[1.0, -0.5321536322937515, 0.5452785412727976, 0.6134383589318974]\n",
            "[-0.5321536322937515, 1.0, -0.1715920703416797, -0.7054340669602387]\n",
            "[0.5452785412727976, -0.1715920703416797, 1.0, 0.8095238095238095]\n",
            "[0.6134383589318974, -0.7054340669602387, 0.8095238095238095, 1.0]\n"
          ]
        }
      ],
      "source": [
        "def compute_mean(vector):\n",
        "    mean = sum(vector) / len(vector)\n",
        "    return mean\n",
        "\n",
        "def compute_covariance_matrix(matrix):\n",
        "    num_samples = len(matrix[0])\n",
        "    num_features = len(matrix)\n",
        "\n",
        "    covariance_matrix = [[0] * num_features for _ in range(num_features)]\n",
        "\n",
        "    means = [compute_mean(feature) for feature in matrix]\n",
        "\n",
        "    for i in range(num_features):\n",
        "        for j in range(num_features):\n",
        "            covariance = sum((matrix[i][k] - means[i]) * (matrix[j][k] - means[j]) for k in range(num_samples)) / num_samples\n",
        "            covariance_matrix[i][j] = covariance\n",
        "\n",
        "    return covariance_matrix\n",
        "\n",
        "def compute_correlation_matrix(matrix):\n",
        "    num_samples = len(matrix[0])\n",
        "    num_features = len(matrix)\n",
        "\n",
        "    correlation_matrix = [[0] * num_features for _ in range(num_features)]\n",
        "\n",
        "    means = [compute_mean(feature) for feature in matrix]\n",
        "\n",
        "    std_deviations = [compute_mean([(matrix[i][k] - means[i]) ** 2 for k in range(num_samples)]) ** 0.5 for i in range(num_features)]\n",
        "\n",
        "    for i in range(num_features):\n",
        "        for j in range(num_features):\n",
        "            covariance = sum((matrix[i][k] - means[i]) * (matrix[j][k] - means[j]) for k in range(num_samples)) / num_samples\n",
        "            correlation = covariance / (std_deviations[i] * std_deviations[j])\n",
        "            correlation_matrix[i][j] = correlation\n",
        "\n",
        "    return correlation_matrix\n",
        "\n",
        "def main():\n",
        "    M = int(input(\"M Value : \"))\n",
        "    N = int(input(\"N Value : \"))\n",
        "    matrix = [[random.randint(1, 10) for _ in range(N)] for _ in range(M)]\n",
        "\n",
        "    print(\"Feature Matrix:\")\n",
        "    for row in matrix:\n",
        "        print(row)\n",
        "\n",
        "    covariance_matrix = compute_covariance_matrix(matrix)\n",
        "    print(\"\\nCovariance Matrix:\")\n",
        "    for row in covariance_matrix:\n",
        "        print(row)\n",
        "\n",
        "    correlation_matrix = compute_correlation_matrix(matrix)\n",
        "    print(\"\\nCorrelation Matrix:\")\n",
        "    for row in correlation_matrix:\n",
        "        print(row)\n",
        "\n",
        "if __name__ == \"__main__\":\n",
        "    import random\n",
        "    main()\n"
      ]
    }
  ],
  "metadata": {
    "colab": {
      "provenance": []
    },
    "kernelspec": {
      "display_name": "Python 3",
      "name": "python3"
    },
    "language_info": {
      "codemirror_mode": {
        "name": "ipython",
        "version": 3
      },
      "file_extension": ".py",
      "mimetype": "text/x-python",
      "name": "python",
      "nbconvert_exporter": "python",
      "pygments_lexer": "ipython3",
      "version": "3.11.8"
    }
  },
  "nbformat": 4,
  "nbformat_minor": 0
}
